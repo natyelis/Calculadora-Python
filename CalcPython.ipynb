{
  "nbformat": 4,
  "nbformat_minor": 0,
  "metadata": {
    "colab": {
      "provenance": []
    },
    "kernelspec": {
      "name": "python3",
      "display_name": "Python 3"
    },
    "language_info": {
      "name": "python"
    }
  },
  "cells": [
    {
      "cell_type": "code",
      "source": [
        "def menu_operacoes():\n",
        "    print(\"\\nEscolha a operação que deseja realizar:\")\n",
        "    print(\"1. Adição (+)\")\n",
        "    print(\"2. Subtração (-)\")\n",
        "    print(\"3. Multiplicação (*)\")\n",
        "    print(\"4. Divisão (/)\")\n",
        "    print(\"5. Sair\")\n",
        "\n",
        "while True:\n",
        "    num1 = float(input(\"Digite o primeiro número: \"))\n",
        "    num2 = float(input(\"Digite o segundo número: \"))\n",
        "\n",
        "    menu_operacoes()\n",
        "    escolha = input(\"Digite o número da operação desejada: \")\n",
        "\n",
        "    # Realizar as operações e exibir o resultado\n",
        "    if escolha == '1':\n",
        "        resultado = num1 + num2\n",
        "        print(f\"Resultado da adição: {resultado}\")\n",
        "    elif escolha == '2':\n",
        "        resultado = num1 - num2\n",
        "        print(f\"Resultado da subtração: {resultado}\")\n",
        "    elif escolha == '3':\n",
        "        resultado = num1 * num2\n",
        "        print(f\"Resultado da multiplicação: {resultado}\")\n",
        "    elif escolha == '4':\n",
        "        if num2 != 0:  # Verificar se o divisor é diferente de zero\n",
        "            resultado = num1 / num2\n",
        "            print(f\"Resultado da divisão: {resultado}\")\n",
        "        else:\n",
        "            print(\"Divisão por zero não é permitida!\")\n",
        "    elif escolha == '5':\n",
        "        print(\"Saindo...\")\n",
        "        break\n",
        "    else:\n",
        "        print(\"Escolha inválida, tente novamente.\")\n"
      ],
      "metadata": {
        "id": "pRGTvtgGcJi-"
      },
      "execution_count": null,
      "outputs": []
    }
  ]
}